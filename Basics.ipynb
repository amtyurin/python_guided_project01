{
 "cells": [
  {
   "cell_type": "code",
   "execution_count": 1,
   "metadata": {
    "collapsed": true
   },
   "outputs": [],
   "source": [
    "import csv\n",
    "import datetime"
   ]
  },
  {
   "cell_type": "code",
   "execution_count": 2,
   "metadata": {
    "collapsed": false,
    "scrolled": true
   },
   "outputs": [
    {
     "name": "stdout",
     "output_type": "stream",
     "text": [
      "[['', 'year', 'month', 'intent', 'police', 'sex', 'age', 'race', 'hispanic', 'place', 'education'], ['1', '2012', '01', 'Suicide', '0', 'M', '34', 'Asian/Pacific Islander', '100', 'Home', '4'], ['2', '2012', '01', 'Suicide', '0', 'F', '21', 'White', '100', 'Street', '3'], ['3', '2012', '01', 'Suicide', '0', 'M', '60', 'White', '100', 'Other specified', '4'], ['4', '2012', '02', 'Suicide', '0', 'M', '64', 'White', '100', 'Home', '4']]\n"
     ]
    }
   ],
   "source": [
    "\n",
    "data = list(csv.reader(open(\"guns.csv\")))\n",
    "\n",
    "print(data[:5])"
   ]
  },
  {
   "cell_type": "code",
   "execution_count": 3,
   "metadata": {
    "collapsed": false
   },
   "outputs": [
    {
     "name": "stdout",
     "output_type": "stream",
     "text": [
      "['', 'year', 'month', 'intent', 'police', 'sex', 'age', 'race', 'hispanic', 'place', 'education']\n",
      "[['1', '2012', '01', 'Suicide', '0', 'M', '34', 'Asian/Pacific Islander', '100', 'Home', '4'], ['2', '2012', '01', 'Suicide', '0', 'F', '21', 'White', '100', 'Street', '3'], ['3', '2012', '01', 'Suicide', '0', 'M', '60', 'White', '100', 'Other specified', '4'], ['4', '2012', '02', 'Suicide', '0', 'M', '64', 'White', '100', 'Home', '4'], ['5', '2012', '02', 'Suicide', '0', 'M', '31', 'White', '100', 'Other specified', '2']]\n"
     ]
    }
   ],
   "source": [
    "headers = data[0]\n",
    "data=data[1:]\n",
    "\n",
    "print(headers)\n",
    "print(data[:5])"
   ]
  },
  {
   "cell_type": "code",
   "execution_count": 4,
   "metadata": {
    "collapsed": false
   },
   "outputs": [
    {
     "data": {
      "text/plain": [
       "{'2012', '2013', '2014'}"
      ]
     },
     "execution_count": 4,
     "metadata": {},
     "output_type": "execute_result"
    }
   ],
   "source": [
    "years=set([row[1] for row in data])\n",
    "years"
   ]
  },
  {
   "cell_type": "code",
   "execution_count": 5,
   "metadata": {
    "collapsed": false
   },
   "outputs": [
    {
     "name": "stdout",
     "output_type": "stream",
     "text": [
      "{'2013': 33636, '2014': 33599, '2012': 33563}\n"
     ]
    }
   ],
   "source": [
    "year_counts = {}\n",
    "for row in data:\n",
    "    if row[1] in year_counts:\n",
    "        year_counts[row[1]] +=1\n",
    "    else:\n",
    "         year_counts[row[1]] =1\n",
    "print(year_counts)"
   ]
  },
  {
   "cell_type": "code",
   "execution_count": 6,
   "metadata": {
    "collapsed": false
   },
   "outputs": [
    {
     "name": "stdout",
     "output_type": "stream",
     "text": [
      "[datetime.datetime(2012, 1, 1, 0, 0), datetime.datetime(2012, 1, 1, 0, 0), datetime.datetime(2012, 1, 1, 0, 0), datetime.datetime(2012, 2, 1, 0, 0), datetime.datetime(2012, 2, 1, 0, 0)]\n"
     ]
    }
   ],
   "source": [
    "dates = [datetime.datetime(year = int(row[1]), month = int(row[2]), day =1) for row in data]\n",
    "print(dates[:5])"
   ]
  },
  {
   "cell_type": "markdown",
   "metadata": {},
   "source": [
    "date_counts = {}\n",
    "for row in dates:\n",
    "    if row[1] in date_counts:\n",
    "        date_counts[row[1]] +=1\n",
    "    else:\n",
    "         date_counts[row[1]] =1\n",
    "print(date_counts)"
   ]
  },
  {
   "cell_type": "code",
   "execution_count": 9,
   "metadata": {
    "collapsed": false
   },
   "outputs": [
    {
     "name": "stdout",
     "output_type": "stream",
     "text": [
      "{datetime.datetime(2013, 11, 1, 0, 0): 2758, datetime.datetime(2014, 1, 1, 0, 0): 2651, datetime.datetime(2014, 4, 1, 0, 0): 2862, datetime.datetime(2014, 5, 1, 0, 0): 2864, datetime.datetime(2012, 8, 1, 0, 0): 2954, datetime.datetime(2013, 8, 1, 0, 0): 2859, datetime.datetime(2014, 9, 1, 0, 0): 2914, datetime.datetime(2013, 10, 1, 0, 0): 2808, datetime.datetime(2014, 3, 1, 0, 0): 2684, datetime.datetime(2014, 11, 1, 0, 0): 2756, datetime.datetime(2012, 11, 1, 0, 0): 2729, datetime.datetime(2012, 1, 1, 0, 0): 2758, datetime.datetime(2013, 1, 1, 0, 0): 2864, datetime.datetime(2012, 12, 1, 0, 0): 2791, datetime.datetime(2014, 2, 1, 0, 0): 2361, datetime.datetime(2013, 5, 1, 0, 0): 2806, datetime.datetime(2012, 9, 1, 0, 0): 2852, datetime.datetime(2013, 9, 1, 0, 0): 2742, datetime.datetime(2012, 5, 1, 0, 0): 2999, datetime.datetime(2013, 12, 1, 0, 0): 2765, datetime.datetime(2013, 3, 1, 0, 0): 2862, datetime.datetime(2012, 4, 1, 0, 0): 2795, datetime.datetime(2012, 2, 1, 0, 0): 2357, datetime.datetime(2014, 8, 1, 0, 0): 2970, datetime.datetime(2014, 10, 1, 0, 0): 2865, datetime.datetime(2013, 7, 1, 0, 0): 3079, datetime.datetime(2012, 10, 1, 0, 0): 2733, datetime.datetime(2013, 4, 1, 0, 0): 2798, datetime.datetime(2013, 6, 1, 0, 0): 2920, datetime.datetime(2012, 7, 1, 0, 0): 3026, datetime.datetime(2012, 3, 1, 0, 0): 2743, datetime.datetime(2014, 12, 1, 0, 0): 2857, datetime.datetime(2013, 2, 1, 0, 0): 2375, datetime.datetime(2012, 6, 1, 0, 0): 2826, datetime.datetime(2014, 6, 1, 0, 0): 2931, datetime.datetime(2014, 7, 1, 0, 0): 2884}\n"
     ]
    }
   ],
   "source": [
    "date_counts = {}\n",
    "for row in dates:\n",
    "    if row in date_counts:\n",
    "        date_counts[row] +=1\n",
    "    else:\n",
    "         date_counts[row] =1\n",
    "print(date_counts)"
   ]
  },
  {
   "cell_type": "code",
   "execution_count": 17,
   "metadata": {
    "collapsed": true
   },
   "outputs": [],
   "source": [
    "def getCounts(columnIdx, data):\n",
    "    counts = {}\n",
    "    for row in data:\n",
    "        if row[columnIdx] in counts:\n",
    "            counts[row[columnIdx]] +=1\n",
    "        else:\n",
    "             counts[row[columnIdx]] =1\n",
    "    return counts"
   ]
  },
  {
   "cell_type": "code",
   "execution_count": 18,
   "metadata": {
    "collapsed": false
   },
   "outputs": [
    {
     "name": "stdout",
     "output_type": "stream",
     "text": [
      "{'F': 14449, 'M': 86349}\n",
      "{'White': 66237, 'Black': 23296, 'Hispanic': 9022, 'Asian/Pacific Islander': 1326, 'Native American/Native Alaskan': 917}\n"
     ]
    }
   ],
   "source": [
    "sex_counts = getCounts(5, data)\n",
    "race_counts = getCounts(7, data)\n",
    "\n",
    "print(sex_counts)\n",
    "print(race_counts)"
   ]
  },
  {
   "cell_type": "code",
   "execution_count": 21,
   "metadata": {
    "collapsed": true
   },
   "outputs": [],
   "source": [
    "census = list(csv.reader(open(\"census.csv\")))"
   ]
  },
  {
   "cell_type": "code",
   "execution_count": 22,
   "metadata": {
    "collapsed": false
   },
   "outputs": [
    {
     "data": {
      "text/plain": [
       "[['Id',\n",
       "  'Year',\n",
       "  'Id',\n",
       "  'Sex',\n",
       "  'Id',\n",
       "  'Hispanic Origin',\n",
       "  'Id',\n",
       "  'Id2',\n",
       "  'Geography',\n",
       "  'Total',\n",
       "  'Race Alone - White',\n",
       "  'Race Alone - Hispanic',\n",
       "  'Race Alone - Black or African American',\n",
       "  'Race Alone - American Indian and Alaska Native',\n",
       "  'Race Alone - Asian',\n",
       "  'Race Alone - Native Hawaiian and Other Pacific Islander',\n",
       "  'Two or More Races'],\n",
       " ['cen42010',\n",
       "  'April 1, 2010 Census',\n",
       "  'totsex',\n",
       "  'Both Sexes',\n",
       "  'tothisp',\n",
       "  'Total',\n",
       "  '0100000US',\n",
       "  '',\n",
       "  'United States',\n",
       "  '308745538',\n",
       "  '197318956',\n",
       "  '44618105',\n",
       "  '40250635',\n",
       "  '3739506',\n",
       "  '15159516',\n",
       "  '674625',\n",
       "  '6984195']]"
      ]
     },
     "execution_count": 22,
     "metadata": {},
     "output_type": "execute_result"
    }
   ],
   "source": [
    "census"
   ]
  },
  {
   "cell_type": "code",
   "execution_count": 23,
   "metadata": {
    "collapsed": true
   },
   "outputs": [],
   "source": [
    "mapping = {\n",
    "    'White': 197318956, \n",
    "    'Black': 40250635, \n",
    "    'Hispanic': 44618105, \n",
    "    'Asian/Pacific Islander': 3739506 + 15159516, \n",
    "    'Native American/Native Alaskan': 3739506\n",
    "}\n"
   ]
  },
  {
   "cell_type": "code",
   "execution_count": 24,
   "metadata": {
    "collapsed": false
   },
   "outputs": [
    {
     "name": "stdout",
     "output_type": "stream",
     "text": [
      "{'Native American/Native Alaskan': 24.521955573811088, 'White': 33.56849303419181, 'Black': 57.8773477735196, 'Hispanic': 20.220491210910907, 'Asian/Pacific Islander': 7.016236078247858}\n"
     ]
    }
   ],
   "source": [
    "race_per_hundredk = {}\n",
    "\n",
    "for item in race_counts.items():\n",
    "    race_per_hundredk[item[0]] = item[1] / mapping[item[0]] * 100000\n",
    "\n",
    "print(race_per_hundredk)"
   ]
  },
  {
   "cell_type": "markdown",
   "metadata": {},
   "source": [
    "Asian are least gun deaths per 100k"
   ]
  },
  {
   "cell_type": "code",
   "execution_count": 27,
   "metadata": {
    "collapsed": true
   },
   "outputs": [],
   "source": [
    "intents = [row[3] for row in data]"
   ]
  },
  {
   "cell_type": "code",
   "execution_count": 28,
   "metadata": {
    "collapsed": true
   },
   "outputs": [],
   "source": [
    "races = [row[7] for row in data]"
   ]
  },
  {
   "cell_type": "code",
   "execution_count": 30,
   "metadata": {
    "collapsed": false
   },
   "outputs": [
    {
     "name": "stdout",
     "output_type": "stream",
     "text": [
      "{'White': 9147, 'Black': 19510, 'Hispanic': 5634, 'Asian/Pacific Islander': 559, 'Native American/Native Alaskan': 326}\n"
     ]
    }
   ],
   "source": [
    "homicide_race_counts={}\n",
    "for i, race in enumerate(races):\n",
    "    if intents[i] == 'Homicide':\n",
    "        if race in homicide_race_counts:\n",
    "            homicide_race_counts[race] +=1\n",
    "        else:\n",
    "             homicide_race_counts[race] =1\n",
    "                \n",
    "print(homicide_race_counts)"
   ]
  },
  {
   "cell_type": "code",
   "execution_count": 31,
   "metadata": {
    "collapsed": false
   },
   "outputs": [
    {
     "name": "stdout",
     "output_type": "stream",
     "text": [
      "{'Native American/Native Alaskan': 8.717729026240365, 'White': 4.6356417981453335, 'Black': 48.471284987180944, 'Hispanic': 12.627161104219914, 'Asian/Pacific Islander': 2.9578250133789994}\n"
     ]
    }
   ],
   "source": [
    "race_per_hundredh = {}\n",
    "\n",
    "for item in homicide_race_counts.items():\n",
    "    race_per_hundredh[item[0]] = item[1] / mapping[item[0]] * 100000\n",
    "\n",
    "print(race_per_hundredh)"
   ]
  },
  {
   "cell_type": "markdown",
   "metadata": {},
   "source": [
    "Asian are least homicides per 100k"
   ]
  }
 ],
 "metadata": {
  "kernelspec": {
   "display_name": "Python 3",
   "language": "python",
   "name": "python3"
  },
  "language_info": {
   "codemirror_mode": {
    "name": "ipython",
    "version": 3
   },
   "file_extension": ".py",
   "mimetype": "text/x-python",
   "name": "python",
   "nbconvert_exporter": "python",
   "pygments_lexer": "ipython3",
   "version": "3.4.3"
  }
 },
 "nbformat": 4,
 "nbformat_minor": 0
}
